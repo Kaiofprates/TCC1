{
 "cells": [
  {
   "cell_type": "code",
   "execution_count": 2,
   "metadata": {},
   "outputs": [],
   "source": [
    "# importando modulos\n",
    "import matplotlib.pyplot as plt\n",
    "import seaborn as sns\n",
    "import pandas as pd\n",
    "import numpy as np"
   ]
  },
  {
   "cell_type": "code",
   "execution_count": 3,
   "metadata": {},
   "outputs": [],
   "source": [
    "#importando data-set bruto\n",
    "df = pd.read_excel('HIST_PAINEL_COVIDBR_27ago2020.xlsx')"
   ]
  },
  {
   "cell_type": "code",
   "execution_count": 3,
   "metadata": {},
   "outputs": [
    {
     "data": {
      "text/plain": [
       "regiao                            object\n",
       "estado                            object\n",
       "municipio                         object\n",
       "coduf                              int64\n",
       "codmun                           float64\n",
       "codRegiaoSaude                   float64\n",
       "nomeRegiaoSaude                   object\n",
       "data                      datetime64[ns]\n",
       "semanaEpi                          int64\n",
       "populacaoTCU2019                 float64\n",
       "casosAcumulado                     int64\n",
       "casosNovos                         int64\n",
       "obitosAcumulado                    int64\n",
       "obitosNovos                        int64\n",
       "Recuperadosnovos                 float64\n",
       "emAcompanhamentoNovos            float64\n",
       "interior/metropolitana           float64\n",
       "dtype: object"
      ]
     },
     "execution_count": 3,
     "metadata": {},
     "output_type": "execute_result"
    }
   ],
   "source": [
    "# mostrando os dados disponíveis no data-set bruto\n",
    "df.dtypes"
   ]
  },
  {
   "cell_type": "code",
   "execution_count": 4,
   "metadata": {},
   "outputs": [
    {
     "data": {
      "text/html": [
       "<div>\n",
       "<style scoped>\n",
       "    .dataframe tbody tr th:only-of-type {\n",
       "        vertical-align: middle;\n",
       "    }\n",
       "\n",
       "    .dataframe tbody tr th {\n",
       "        vertical-align: top;\n",
       "    }\n",
       "\n",
       "    .dataframe thead th {\n",
       "        text-align: right;\n",
       "    }\n",
       "</style>\n",
       "<table border=\"1\" class=\"dataframe\">\n",
       "  <thead>\n",
       "    <tr style=\"text-align: right;\">\n",
       "      <th></th>\n",
       "      <th>municipio</th>\n",
       "      <th>codmun</th>\n",
       "      <th>estado</th>\n",
       "      <th>semanaEpi</th>\n",
       "      <th>casosAcumulado</th>\n",
       "      <th>casosNovos</th>\n",
       "      <th>obitosNovos</th>\n",
       "      <th>obitosAcumulado</th>\n",
       "    </tr>\n",
       "  </thead>\n",
       "  <tbody>\n",
       "    <tr>\n",
       "      <th>429450</th>\n",
       "      <td>Montes Claros</td>\n",
       "      <td>314330.0</td>\n",
       "      <td>MG</td>\n",
       "      <td>13.0</td>\n",
       "      <td>0.0</td>\n",
       "      <td>0.0</td>\n",
       "      <td>0.0</td>\n",
       "      <td>0.0</td>\n",
       "    </tr>\n",
       "    <tr>\n",
       "      <th>429451</th>\n",
       "      <td>Montes Claros</td>\n",
       "      <td>314330.0</td>\n",
       "      <td>MG</td>\n",
       "      <td>13.0</td>\n",
       "      <td>0.0</td>\n",
       "      <td>0.0</td>\n",
       "      <td>0.0</td>\n",
       "      <td>0.0</td>\n",
       "    </tr>\n",
       "    <tr>\n",
       "      <th>429452</th>\n",
       "      <td>Montes Claros</td>\n",
       "      <td>314330.0</td>\n",
       "      <td>MG</td>\n",
       "      <td>14.0</td>\n",
       "      <td>0.0</td>\n",
       "      <td>0.0</td>\n",
       "      <td>0.0</td>\n",
       "      <td>0.0</td>\n",
       "    </tr>\n",
       "    <tr>\n",
       "      <th>429453</th>\n",
       "      <td>Montes Claros</td>\n",
       "      <td>314330.0</td>\n",
       "      <td>MG</td>\n",
       "      <td>14.0</td>\n",
       "      <td>0.0</td>\n",
       "      <td>0.0</td>\n",
       "      <td>0.0</td>\n",
       "      <td>0.0</td>\n",
       "    </tr>\n",
       "    <tr>\n",
       "      <th>429454</th>\n",
       "      <td>Montes Claros</td>\n",
       "      <td>314330.0</td>\n",
       "      <td>MG</td>\n",
       "      <td>14.0</td>\n",
       "      <td>0.0</td>\n",
       "      <td>0.0</td>\n",
       "      <td>0.0</td>\n",
       "      <td>0.0</td>\n",
       "    </tr>\n",
       "    <tr>\n",
       "      <th>...</th>\n",
       "      <td>...</td>\n",
       "      <td>...</td>\n",
       "      <td>...</td>\n",
       "      <td>...</td>\n",
       "      <td>...</td>\n",
       "      <td>...</td>\n",
       "      <td>...</td>\n",
       "      <td>...</td>\n",
       "    </tr>\n",
       "    <tr>\n",
       "      <th>429599</th>\n",
       "      <td>Montes Claros</td>\n",
       "      <td>314330.0</td>\n",
       "      <td>MG</td>\n",
       "      <td>35.0</td>\n",
       "      <td>4483.0</td>\n",
       "      <td>111.0</td>\n",
       "      <td>3.0</td>\n",
       "      <td>66.0</td>\n",
       "    </tr>\n",
       "    <tr>\n",
       "      <th>429600</th>\n",
       "      <td>Montes Claros</td>\n",
       "      <td>314330.0</td>\n",
       "      <td>MG</td>\n",
       "      <td>35.0</td>\n",
       "      <td>4507.0</td>\n",
       "      <td>24.0</td>\n",
       "      <td>0.0</td>\n",
       "      <td>66.0</td>\n",
       "    </tr>\n",
       "    <tr>\n",
       "      <th>429601</th>\n",
       "      <td>Montes Claros</td>\n",
       "      <td>314330.0</td>\n",
       "      <td>MG</td>\n",
       "      <td>35.0</td>\n",
       "      <td>4563.0</td>\n",
       "      <td>56.0</td>\n",
       "      <td>0.0</td>\n",
       "      <td>66.0</td>\n",
       "    </tr>\n",
       "    <tr>\n",
       "      <th>429602</th>\n",
       "      <td>Montes Claros</td>\n",
       "      <td>314330.0</td>\n",
       "      <td>MG</td>\n",
       "      <td>35.0</td>\n",
       "      <td>4719.0</td>\n",
       "      <td>156.0</td>\n",
       "      <td>4.0</td>\n",
       "      <td>70.0</td>\n",
       "    </tr>\n",
       "    <tr>\n",
       "      <th>429603</th>\n",
       "      <td>Montes Claros</td>\n",
       "      <td>314330.0</td>\n",
       "      <td>MG</td>\n",
       "      <td>35.0</td>\n",
       "      <td>4952.0</td>\n",
       "      <td>233.0</td>\n",
       "      <td>1.0</td>\n",
       "      <td>71.0</td>\n",
       "    </tr>\n",
       "  </tbody>\n",
       "</table>\n",
       "<p>154 rows × 8 columns</p>\n",
       "</div>"
      ],
      "text/plain": [
       "            municipio    codmun estado  semanaEpi  casosAcumulado  casosNovos  \\\n",
       "429450  Montes Claros  314330.0     MG       13.0             0.0         0.0   \n",
       "429451  Montes Claros  314330.0     MG       13.0             0.0         0.0   \n",
       "429452  Montes Claros  314330.0     MG       14.0             0.0         0.0   \n",
       "429453  Montes Claros  314330.0     MG       14.0             0.0         0.0   \n",
       "429454  Montes Claros  314330.0     MG       14.0             0.0         0.0   \n",
       "...               ...       ...    ...        ...             ...         ...   \n",
       "429599  Montes Claros  314330.0     MG       35.0          4483.0       111.0   \n",
       "429600  Montes Claros  314330.0     MG       35.0          4507.0        24.0   \n",
       "429601  Montes Claros  314330.0     MG       35.0          4563.0        56.0   \n",
       "429602  Montes Claros  314330.0     MG       35.0          4719.0       156.0   \n",
       "429603  Montes Claros  314330.0     MG       35.0          4952.0       233.0   \n",
       "\n",
       "        obitosNovos  obitosAcumulado  \n",
       "429450          0.0              0.0  \n",
       "429451          0.0              0.0  \n",
       "429452          0.0              0.0  \n",
       "429453          0.0              0.0  \n",
       "429454          0.0              0.0  \n",
       "...             ...              ...  \n",
       "429599          3.0             66.0  \n",
       "429600          0.0             66.0  \n",
       "429601          0.0             66.0  \n",
       "429602          4.0             70.0  \n",
       "429603          1.0             71.0  \n",
       "\n",
       "[154 rows x 8 columns]"
      ]
     },
     "execution_count": 4,
     "metadata": {},
     "output_type": "execute_result"
    }
   ],
   "source": [
    "# filtrando dados para a região de Montes Claros\n",
    "moc = df[['municipio','codmun','estado', 'semanaEpi', 'casosAcumulado', 'casosNovos', 'obitosNovos', 'obitosAcumulado']].where(df['codmun'] == 314330)\n",
    "\n",
    "#retirando dados \"perdidos\" NaN\n",
    "moc = moc.dropna()\n",
    "moc"
   ]
  },
  {
   "cell_type": "code",
   "execution_count": 6,
   "metadata": {},
   "outputs": [
    {
     "data": {
      "text/html": [
       "<div>\n",
       "<style scoped>\n",
       "    .dataframe tbody tr th:only-of-type {\n",
       "        vertical-align: middle;\n",
       "    }\n",
       "\n",
       "    .dataframe tbody tr th {\n",
       "        vertical-align: top;\n",
       "    }\n",
       "\n",
       "    .dataframe thead th {\n",
       "        text-align: right;\n",
       "    }\n",
       "</style>\n",
       "<table border=\"1\" class=\"dataframe\">\n",
       "  <thead>\n",
       "    <tr style=\"text-align: right;\">\n",
       "      <th></th>\n",
       "      <th>codmun</th>\n",
       "      <th>semanaEpi</th>\n",
       "      <th>casosAcumulado</th>\n",
       "      <th>casosNovos</th>\n",
       "      <th>obitosNovos</th>\n",
       "      <th>obitosAcumulado</th>\n",
       "    </tr>\n",
       "  </thead>\n",
       "  <tbody>\n",
       "    <tr>\n",
       "      <th>codmun</th>\n",
       "      <td>NaN</td>\n",
       "      <td>NaN</td>\n",
       "      <td>NaN</td>\n",
       "      <td>NaN</td>\n",
       "      <td>NaN</td>\n",
       "      <td>NaN</td>\n",
       "    </tr>\n",
       "    <tr>\n",
       "      <th>semanaEpi</th>\n",
       "      <td>NaN</td>\n",
       "      <td>1.000000</td>\n",
       "      <td>0.764002</td>\n",
       "      <td>0.613228</td>\n",
       "      <td>0.444467</td>\n",
       "      <td>0.748620</td>\n",
       "    </tr>\n",
       "    <tr>\n",
       "      <th>casosAcumulado</th>\n",
       "      <td>NaN</td>\n",
       "      <td>0.764002</td>\n",
       "      <td>1.000000</td>\n",
       "      <td>0.742902</td>\n",
       "      <td>0.538832</td>\n",
       "      <td>0.997027</td>\n",
       "    </tr>\n",
       "    <tr>\n",
       "      <th>casosNovos</th>\n",
       "      <td>NaN</td>\n",
       "      <td>0.613228</td>\n",
       "      <td>0.742902</td>\n",
       "      <td>1.000000</td>\n",
       "      <td>0.560651</td>\n",
       "      <td>0.727778</td>\n",
       "    </tr>\n",
       "    <tr>\n",
       "      <th>obitosNovos</th>\n",
       "      <td>NaN</td>\n",
       "      <td>0.444467</td>\n",
       "      <td>0.538832</td>\n",
       "      <td>0.560651</td>\n",
       "      <td>1.000000</td>\n",
       "      <td>0.553036</td>\n",
       "    </tr>\n",
       "    <tr>\n",
       "      <th>obitosAcumulado</th>\n",
       "      <td>NaN</td>\n",
       "      <td>0.748620</td>\n",
       "      <td>0.997027</td>\n",
       "      <td>0.727778</td>\n",
       "      <td>0.553036</td>\n",
       "      <td>1.000000</td>\n",
       "    </tr>\n",
       "  </tbody>\n",
       "</table>\n",
       "</div>"
      ],
      "text/plain": [
       "                 codmun  semanaEpi  casosAcumulado  casosNovos  obitosNovos  \\\n",
       "codmun              NaN        NaN             NaN         NaN          NaN   \n",
       "semanaEpi           NaN   1.000000        0.764002    0.613228     0.444467   \n",
       "casosAcumulado      NaN   0.764002        1.000000    0.742902     0.538832   \n",
       "casosNovos          NaN   0.613228        0.742902    1.000000     0.560651   \n",
       "obitosNovos         NaN   0.444467        0.538832    0.560651     1.000000   \n",
       "obitosAcumulado     NaN   0.748620        0.997027    0.727778     0.553036   \n",
       "\n",
       "                 obitosAcumulado  \n",
       "codmun                       NaN  \n",
       "semanaEpi               0.748620  \n",
       "casosAcumulado          0.997027  \n",
       "casosNovos              0.727778  \n",
       "obitosNovos             0.553036  \n",
       "obitosAcumulado         1.000000  "
      ]
     },
     "execution_count": 6,
     "metadata": {},
     "output_type": "execute_result"
    }
   ],
   "source": [
    "# correlação entre dados - primeiro passo para analise com regressão linear\n",
    "\n",
    "moc.corr()"
   ]
  },
  {
   "cell_type": "code",
   "execution_count": 7,
   "metadata": {},
   "outputs": [
    {
     "data": {
      "text/html": [
       "<div>\n",
       "<style scoped>\n",
       "    .dataframe tbody tr th:only-of-type {\n",
       "        vertical-align: middle;\n",
       "    }\n",
       "\n",
       "    .dataframe tbody tr th {\n",
       "        vertical-align: top;\n",
       "    }\n",
       "\n",
       "    .dataframe thead th {\n",
       "        text-align: right;\n",
       "    }\n",
       "</style>\n",
       "<table border=\"1\" class=\"dataframe\">\n",
       "  <thead>\n",
       "    <tr style=\"text-align: right;\">\n",
       "      <th></th>\n",
       "      <th>casosAcumulado</th>\n",
       "      <th>semanaEpi</th>\n",
       "    </tr>\n",
       "  </thead>\n",
       "  <tbody>\n",
       "    <tr>\n",
       "      <th>casosAcumulado</th>\n",
       "      <td>1.000000</td>\n",
       "      <td>0.764002</td>\n",
       "    </tr>\n",
       "    <tr>\n",
       "      <th>semanaEpi</th>\n",
       "      <td>0.764002</td>\n",
       "      <td>1.000000</td>\n",
       "    </tr>\n",
       "  </tbody>\n",
       "</table>\n",
       "</div>"
      ],
      "text/plain": [
       "                casosAcumulado  semanaEpi\n",
       "casosAcumulado        1.000000   0.764002\n",
       "semanaEpi             0.764002   1.000000"
      ]
     },
     "execution_count": 7,
     "metadata": {},
     "output_type": "execute_result"
    }
   ],
   "source": [
    "moc[['casosAcumulado','semanaEpi']].corr()"
   ]
  },
  {
   "cell_type": "code",
   "execution_count": 5,
   "metadata": {},
   "outputs": [
    {
     "data": {
      "text/plain": [
       "(0.0, 5258.424488321269)"
      ]
     },
     "execution_count": 5,
     "metadata": {},
     "output_type": "execute_result"
    },
    {
     "data": {
      "image/png": "[encoded data removed]",
      "text/plain": [
       "<Figure size 432x288 with 1 Axes>"
      ]
     },
     "metadata": {
      "needs_background": "light"
     },
     "output_type": "display_data"
    }
   ],
   "source": [
    "sns.regplot(x='semanaEpi', y = 'casosAcumulado', data= moc)\n",
    "plt.ylim(0, )"
   ]
  },
  {
   "cell_type": "code",
   "execution_count": 10,
   "metadata": {},
   "outputs": [
    {
     "data": {
      "text/html": [
       "<div>\n",
       "<style scoped>\n",
       "    .dataframe tbody tr th:only-of-type {\n",
       "        vertical-align: middle;\n",
       "    }\n",
       "\n",
       "    .dataframe tbody tr th {\n",
       "        vertical-align: top;\n",
       "    }\n",
       "\n",
       "    .dataframe thead th {\n",
       "        text-align: right;\n",
       "    }\n",
       "</style>\n",
       "<table border=\"1\" class=\"dataframe\">\n",
       "  <thead>\n",
       "    <tr style=\"text-align: right;\">\n",
       "      <th></th>\n",
       "      <th>obitosAcumulado</th>\n",
       "      <th>semanaEpi</th>\n",
       "      <th>casosAcumulado</th>\n",
       "      <th>obitosNovos</th>\n",
       "      <th>casosNovos</th>\n",
       "    </tr>\n",
       "  </thead>\n",
       "  <tbody>\n",
       "    <tr>\n",
       "      <th>obitosAcumulado</th>\n",
       "      <td>1.000000</td>\n",
       "      <td>0.748620</td>\n",
       "      <td>0.997027</td>\n",
       "      <td>0.553036</td>\n",
       "      <td>0.727778</td>\n",
       "    </tr>\n",
       "    <tr>\n",
       "      <th>semanaEpi</th>\n",
       "      <td>0.748620</td>\n",
       "      <td>1.000000</td>\n",
       "      <td>0.764002</td>\n",
       "      <td>0.444467</td>\n",
       "      <td>0.613228</td>\n",
       "    </tr>\n",
       "    <tr>\n",
       "      <th>casosAcumulado</th>\n",
       "      <td>0.997027</td>\n",
       "      <td>0.764002</td>\n",
       "      <td>1.000000</td>\n",
       "      <td>0.538832</td>\n",
       "      <td>0.742902</td>\n",
       "    </tr>\n",
       "    <tr>\n",
       "      <th>obitosNovos</th>\n",
       "      <td>0.553036</td>\n",
       "      <td>0.444467</td>\n",
       "      <td>0.538832</td>\n",
       "      <td>1.000000</td>\n",
       "      <td>0.560651</td>\n",
       "    </tr>\n",
       "    <tr>\n",
       "      <th>casosNovos</th>\n",
       "      <td>0.727778</td>\n",
       "      <td>0.613228</td>\n",
       "      <td>0.742902</td>\n",
       "      <td>0.560651</td>\n",
       "      <td>1.000000</td>\n",
       "    </tr>\n",
       "  </tbody>\n",
       "</table>\n",
       "</div>"
      ],
      "text/plain": [
       "                 obitosAcumulado  semanaEpi  casosAcumulado  obitosNovos  \\\n",
       "obitosAcumulado         1.000000   0.748620        0.997027     0.553036   \n",
       "semanaEpi               0.748620   1.000000        0.764002     0.444467   \n",
       "casosAcumulado          0.997027   0.764002        1.000000     0.538832   \n",
       "obitosNovos             0.553036   0.444467        0.538832     1.000000   \n",
       "casosNovos              0.727778   0.613228        0.742902     0.560651   \n",
       "\n",
       "                 casosNovos  \n",
       "obitosAcumulado    0.727778  \n",
       "semanaEpi          0.613228  \n",
       "casosAcumulado     0.742902  \n",
       "obitosNovos        0.560651  \n",
       "casosNovos         1.000000  "
      ]
     },
     "execution_count": 10,
     "metadata": {},
     "output_type": "execute_result"
    }
   ],
   "source": [
    "moc[['obitosAcumulado', 'semanaEpi', 'casosAcumulado', 'obitosNovos', 'casosNovos']].corr()\n"
   ]
  },
  {
   "cell_type": "code",
   "execution_count": 12,
   "metadata": {},
   "outputs": [
    {
     "data": {
      "text/plain": [
       "<AxesSubplot:xlabel='obitosAcumulado', ylabel='casosAcumulado'>"
      ]
     },
     "execution_count": 12,
     "metadata": {},
     "output_type": "execute_result"
    },
    {
     "data": {
      "image/png": "[encoded data removed]",
      "text/plain": [
       "<Figure size 432x288 with 1 Axes>"
      ]
     },
     "metadata": {
      "needs_background": "light"
     },
     "output_type": "display_data"
    }
   ],
   "source": [
    "sns.regplot(x = \"obitosAcumulado\", y = \"casosAcumulado\", data = moc)"
   ]
  },
  {
   "cell_type": "code",
   "execution_count": 13,
   "metadata": {},
   "outputs": [
    {
     "data": {
      "text/plain": [
       "<AxesSubplot:xlabel='semanaEpi', ylabel='casosNovos'>"
      ]
     },
     "execution_count": 13,
     "metadata": {},
     "output_type": "execute_result"
    },
    {
     "data": {
      "image/png": "[encoded data removed]",
      "text/plain": [
       "<Figure size 432x288 with 1 Axes>"
      ]
     },
     "metadata": {
      "needs_background": "light"
     },
     "output_type": "display_data"
    }
   ],
   "source": [
    "sns.regplot(x = 'semanaEpi', y = 'casosNovos', data = moc)"
   ]
  },
  {
   "cell_type": "code",
   "execution_count": 14,
   "metadata": {},
   "outputs": [
    {
     "data": {
      "text/html": [
       "<div>\n",
       "<style scoped>\n",
       "    .dataframe tbody tr th:only-of-type {\n",
       "        vertical-align: middle;\n",
       "    }\n",
       "\n",
       "    .dataframe tbody tr th {\n",
       "        vertical-align: top;\n",
       "    }\n",
       "\n",
       "    .dataframe thead th {\n",
       "        text-align: right;\n",
       "    }\n",
       "</style>\n",
       "<table border=\"1\" class=\"dataframe\">\n",
       "  <thead>\n",
       "    <tr style=\"text-align: right;\">\n",
       "      <th></th>\n",
       "      <th>codmun</th>\n",
       "      <th>semanaEpi</th>\n",
       "      <th>casosAcumulado</th>\n",
       "      <th>casosNovos</th>\n",
       "      <th>obitosNovos</th>\n",
       "      <th>obitosAcumulado</th>\n",
       "    </tr>\n",
       "  </thead>\n",
       "  <tbody>\n",
       "    <tr>\n",
       "      <th>count</th>\n",
       "      <td>154.0</td>\n",
       "      <td>154.000000</td>\n",
       "      <td>154.000000</td>\n",
       "      <td>154.000000</td>\n",
       "      <td>154.000000</td>\n",
       "      <td>154.000000</td>\n",
       "    </tr>\n",
       "    <tr>\n",
       "      <th>mean</th>\n",
       "      <td>314330.0</td>\n",
       "      <td>24.214286</td>\n",
       "      <td>731.201299</td>\n",
       "      <td>32.155844</td>\n",
       "      <td>0.461039</td>\n",
       "      <td>10.980519</td>\n",
       "    </tr>\n",
       "    <tr>\n",
       "      <th>std</th>\n",
       "      <td>0.0</td>\n",
       "      <td>6.381104</td>\n",
       "      <td>1243.392557</td>\n",
       "      <td>63.909876</td>\n",
       "      <td>1.253143</td>\n",
       "      <td>17.705459</td>\n",
       "    </tr>\n",
       "    <tr>\n",
       "      <th>min</th>\n",
       "      <td>314330.0</td>\n",
       "      <td>13.000000</td>\n",
       "      <td>0.000000</td>\n",
       "      <td>-12.000000</td>\n",
       "      <td>-1.000000</td>\n",
       "      <td>0.000000</td>\n",
       "    </tr>\n",
       "    <tr>\n",
       "      <th>25%</th>\n",
       "      <td>314330.0</td>\n",
       "      <td>19.000000</td>\n",
       "      <td>17.000000</td>\n",
       "      <td>0.000000</td>\n",
       "      <td>0.000000</td>\n",
       "      <td>1.250000</td>\n",
       "    </tr>\n",
       "    <tr>\n",
       "      <th>50%</th>\n",
       "      <td>314330.0</td>\n",
       "      <td>24.000000</td>\n",
       "      <td>116.000000</td>\n",
       "      <td>3.000000</td>\n",
       "      <td>0.000000</td>\n",
       "      <td>3.000000</td>\n",
       "    </tr>\n",
       "    <tr>\n",
       "      <th>75%</th>\n",
       "      <td>314330.0</td>\n",
       "      <td>30.000000</td>\n",
       "      <td>733.500000</td>\n",
       "      <td>25.500000</td>\n",
       "      <td>0.000000</td>\n",
       "      <td>11.000000</td>\n",
       "    </tr>\n",
       "    <tr>\n",
       "      <th>max</th>\n",
       "      <td>314330.0</td>\n",
       "      <td>35.000000</td>\n",
       "      <td>4952.000000</td>\n",
       "      <td>396.000000</td>\n",
       "      <td>10.000000</td>\n",
       "      <td>71.000000</td>\n",
       "    </tr>\n",
       "  </tbody>\n",
       "</table>\n",
       "</div>"
      ],
      "text/plain": [
       "         codmun   semanaEpi  casosAcumulado  casosNovos  obitosNovos  \\\n",
       "count     154.0  154.000000      154.000000  154.000000   154.000000   \n",
       "mean   314330.0   24.214286      731.201299   32.155844     0.461039   \n",
       "std         0.0    6.381104     1243.392557   63.909876     1.253143   \n",
       "min    314330.0   13.000000        0.000000  -12.000000    -1.000000   \n",
       "25%    314330.0   19.000000       17.000000    0.000000     0.000000   \n",
       "50%    314330.0   24.000000      116.000000    3.000000     0.000000   \n",
       "75%    314330.0   30.000000      733.500000   25.500000     0.000000   \n",
       "max    314330.0   35.000000     4952.000000  396.000000    10.000000   \n",
       "\n",
       "       obitosAcumulado  \n",
       "count       154.000000  \n",
       "mean         10.980519  \n",
       "std          17.705459  \n",
       "min           0.000000  \n",
       "25%           1.250000  \n",
       "50%           3.000000  \n",
       "75%          11.000000  \n",
       "max          71.000000  "
      ]
     },
     "execution_count": 14,
     "metadata": {},
     "output_type": "execute_result"
    }
   ],
   "source": [
    "moc.describe()"
   ]
  },
  {
   "cell_type": "code",
   "execution_count": 15,
   "metadata": {},
   "outputs": [
    {
     "data": {
      "text/html": [
       "<div>\n",
       "<style scoped>\n",
       "    .dataframe tbody tr th:only-of-type {\n",
       "        vertical-align: middle;\n",
       "    }\n",
       "\n",
       "    .dataframe tbody tr th {\n",
       "        vertical-align: top;\n",
       "    }\n",
       "\n",
       "    .dataframe thead th {\n",
       "        text-align: right;\n",
       "    }\n",
       "</style>\n",
       "<table border=\"1\" class=\"dataframe\">\n",
       "  <thead>\n",
       "    <tr style=\"text-align: right;\">\n",
       "      <th></th>\n",
       "      <th>municipio</th>\n",
       "      <th>estado</th>\n",
       "    </tr>\n",
       "  </thead>\n",
       "  <tbody>\n",
       "    <tr>\n",
       "      <th>count</th>\n",
       "      <td>154</td>\n",
       "      <td>154</td>\n",
       "    </tr>\n",
       "    <tr>\n",
       "      <th>unique</th>\n",
       "      <td>1</td>\n",
       "      <td>1</td>\n",
       "    </tr>\n",
       "    <tr>\n",
       "      <th>top</th>\n",
       "      <td>Montes Claros</td>\n",
       "      <td>MG</td>\n",
       "    </tr>\n",
       "    <tr>\n",
       "      <th>freq</th>\n",
       "      <td>154</td>\n",
       "      <td>154</td>\n",
       "    </tr>\n",
       "  </tbody>\n",
       "</table>\n",
       "</div>"
      ],
      "text/plain": [
       "            municipio estado\n",
       "count             154    154\n",
       "unique              1      1\n",
       "top     Montes Claros     MG\n",
       "freq              154    154"
      ]
     },
     "execution_count": 15,
     "metadata": {},
     "output_type": "execute_result"
    }
   ],
   "source": [
    "moc.describe(include=['object'])"
   ]
  },
  {
   "cell_type": "code",
   "execution_count": 17,
   "metadata": {},
   "outputs": [
    {
     "data": {
      "text/plain": [
       " 0.0     121\n",
       " 1.0      17\n",
       " 3.0       6\n",
       " 4.0       4\n",
       " 2.0       3\n",
       " 5.0       1\n",
       " 10.0      1\n",
       "-1.0       1\n",
       "Name: obitosNovos, dtype: int64"
      ]
     },
     "execution_count": 17,
     "metadata": {},
     "output_type": "execute_result"
    }
   ],
   "source": [
    "moc['obitosNovos'].value_counts()"
   ]
  },
  {
   "cell_type": "code",
   "execution_count": 18,
   "metadata": {},
   "outputs": [
    {
     "data": {
      "text/html": [
       "<div>\n",
       "<style scoped>\n",
       "    .dataframe tbody tr th:only-of-type {\n",
       "        vertical-align: middle;\n",
       "    }\n",
       "\n",
       "    .dataframe tbody tr th {\n",
       "        vertical-align: top;\n",
       "    }\n",
       "\n",
       "    .dataframe thead th {\n",
       "        text-align: right;\n",
       "    }\n",
       "</style>\n",
       "<table border=\"1\" class=\"dataframe\">\n",
       "  <thead>\n",
       "    <tr style=\"text-align: right;\">\n",
       "      <th></th>\n",
       "      <th>obitosNovos</th>\n",
       "    </tr>\n",
       "  </thead>\n",
       "  <tbody>\n",
       "    <tr>\n",
       "      <th>0.0</th>\n",
       "      <td>121</td>\n",
       "    </tr>\n",
       "    <tr>\n",
       "      <th>1.0</th>\n",
       "      <td>17</td>\n",
       "    </tr>\n",
       "    <tr>\n",
       "      <th>3.0</th>\n",
       "      <td>6</td>\n",
       "    </tr>\n",
       "    <tr>\n",
       "      <th>4.0</th>\n",
       "      <td>4</td>\n",
       "    </tr>\n",
       "    <tr>\n",
       "      <th>2.0</th>\n",
       "      <td>3</td>\n",
       "    </tr>\n",
       "    <tr>\n",
       "      <th>5.0</th>\n",
       "      <td>1</td>\n",
       "    </tr>\n",
       "    <tr>\n",
       "      <th>10.0</th>\n",
       "      <td>1</td>\n",
       "    </tr>\n",
       "    <tr>\n",
       "      <th>-1.0</th>\n",
       "      <td>1</td>\n",
       "    </tr>\n",
       "  </tbody>\n",
       "</table>\n",
       "</div>"
      ],
      "text/plain": [
       "       obitosNovos\n",
       " 0.0           121\n",
       " 1.0            17\n",
       " 3.0             6\n",
       " 4.0             4\n",
       " 2.0             3\n",
       " 5.0             1\n",
       " 10.0            1\n",
       "-1.0             1"
      ]
     },
     "execution_count": 18,
     "metadata": {},
     "output_type": "execute_result"
    }
   ],
   "source": [
    "moc['obitosNovos'].value_counts().to_frame()"
   ]
  },
  {
   "cell_type": "code",
   "execution_count": 19,
   "metadata": {},
   "outputs": [
    {
     "data": {
      "text/html": [
       "<div>\n",
       "<style scoped>\n",
       "    .dataframe tbody tr th:only-of-type {\n",
       "        vertical-align: middle;\n",
       "    }\n",
       "\n",
       "    .dataframe tbody tr th {\n",
       "        vertical-align: top;\n",
       "    }\n",
       "\n",
       "    .dataframe thead th {\n",
       "        text-align: right;\n",
       "    }\n",
       "</style>\n",
       "<table border=\"1\" class=\"dataframe\">\n",
       "  <thead>\n",
       "    <tr style=\"text-align: right;\">\n",
       "      <th></th>\n",
       "      <th>obitosNovos</th>\n",
       "    </tr>\n",
       "    <tr>\n",
       "      <th>Frequencia_obitos</th>\n",
       "      <th></th>\n",
       "    </tr>\n",
       "  </thead>\n",
       "  <tbody>\n",
       "    <tr>\n",
       "      <th>0.0</th>\n",
       "      <td>121</td>\n",
       "    </tr>\n",
       "    <tr>\n",
       "      <th>1.0</th>\n",
       "      <td>17</td>\n",
       "    </tr>\n",
       "    <tr>\n",
       "      <th>3.0</th>\n",
       "      <td>6</td>\n",
       "    </tr>\n",
       "    <tr>\n",
       "      <th>4.0</th>\n",
       "      <td>4</td>\n",
       "    </tr>\n",
       "    <tr>\n",
       "      <th>2.0</th>\n",
       "      <td>3</td>\n",
       "    </tr>\n",
       "    <tr>\n",
       "      <th>5.0</th>\n",
       "      <td>1</td>\n",
       "    </tr>\n",
       "    <tr>\n",
       "      <th>10.0</th>\n",
       "      <td>1</td>\n",
       "    </tr>\n",
       "    <tr>\n",
       "      <th>-1.0</th>\n",
       "      <td>1</td>\n",
       "    </tr>\n",
       "  </tbody>\n",
       "</table>\n",
       "</div>"
      ],
      "text/plain": [
       "                   obitosNovos\n",
       "Frequencia_obitos             \n",
       " 0.0                       121\n",
       " 1.0                        17\n",
       " 3.0                         6\n",
       " 4.0                         4\n",
       " 2.0                         3\n",
       " 5.0                         1\n",
       " 10.0                        1\n",
       "-1.0                         1"
      ]
     },
     "execution_count": 19,
     "metadata": {},
     "output_type": "execute_result"
    }
   ],
   "source": [
    "obitos = moc['obitosNovos'].value_counts().to_frame()\n",
    "obitos.index.name = \"Frequencia_obitos\"\n",
    "obitos"
   ]
  },
  {
   "cell_type": "code",
   "execution_count": 31,
   "metadata": {},
   "outputs": [],
   "source": [
    "# pivotar os dados de obitos"
   ]
  },
  {
   "cell_type": "code",
   "execution_count": null,
   "metadata": {},
   "outputs": [],
   "source": []
  }
 ],
 "metadata": {
  "kernelspec": {
   "display_name": "Python 3",
   "language": "python",
   "name": "python3"
  },
  "language_info": {
   "codemirror_mode": {
    "name": "ipython",
    "version": 3
   },
   "file_extension": ".py",
   "mimetype": "text/x-python",
   "name": "python",
   "nbconvert_exporter": "python",
   "pygments_lexer": "ipython3",
   "version": "3.7.3"
  }
 },
 "nbformat": 4,
 "nbformat_minor": 4
}
